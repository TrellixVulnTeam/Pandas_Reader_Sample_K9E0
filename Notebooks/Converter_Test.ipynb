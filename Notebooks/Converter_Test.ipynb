{
 "cells": [
  {
   "cell_type": "code",
   "execution_count": 2,
   "metadata": {
    "collapsed": true
   },
   "outputs": [
    {
     "name": "stdout",
     "output_type": "stream",
     "text": [
      "            Open_Price  Close_Price Company\n",
      "Date                                       \n",
      "2019-09-03   51.607498    51.424999    AAPL\n",
      "2019-09-04   52.097500    52.297501    AAPL\n",
      "2019-09-05   53.000000    53.320000    AAPL\n",
      "2019-09-06   53.512501    53.314999    AAPL\n",
      "2019-09-09   53.709999    53.542500    AAPL\n",
      "2019-09-10   53.465000    54.174999    AAPL\n",
      "2019-09-11   54.517502    55.897499    AAPL\n",
      "2019-09-12   56.200001    55.772499    AAPL\n",
      "2019-09-13   55.000000    54.687500    AAPL\n",
      "2019-09-16   54.432499    54.974998    AAPL\n",
      "2019-09-17   54.990002    55.174999    AAPL\n",
      "2019-09-18   55.264999    55.692501    AAPL\n",
      "2019-09-19   55.502499    55.240002    AAPL\n",
      "2019-09-20   55.345001    54.432499    AAPL\n",
      "2019-09-23   54.737499    54.680000    AAPL\n",
      "2019-09-24   55.257500    54.419998    AAPL\n",
      "2019-09-25   54.637501    55.257500    AAPL\n",
      "2019-09-26   55.000000    54.972500    AAPL\n",
      "2019-09-27   55.134998    54.705002    AAPL\n",
      "2019-09-30   55.224998    55.992500    AAPL\n"
     ]
    }
   ],
   "source": [
    "import Conveter.DataReader\n",
    "\n",
    "\n",
    "args = Conveter.DataReader.RequestContainer(datasource='yahoo',\n",
    "                             date_from='2019-09-1',\n",
    "                             date_to='2019-09-30',\n",
    "                             company='AAPL'\n",
    "                            )\n",
    "DataHandler = Conveter.DataReader.GetFactory(args).get_handler()\n",
    "data = DataHandler.DoRequest()\n",
    "print(data.to_string())"
   ]
  }
 ],
 "metadata": {
  "kernelspec": {
   "name": "pycharm-18c535e6",
   "language": "python",
   "display_name": "PyCharm (Pandas_Reader_Sample)"
  },
  "language_info": {
   "codemirror_mode": {
    "name": "ipython",
    "version": 2
   },
   "file_extension": ".py",
   "mimetype": "text/x-python",
   "name": "python",
   "nbconvert_exporter": "python",
   "pygments_lexer": "ipython2",
   "version": "2.7.6"
  }
 },
 "nbformat": 4,
 "nbformat_minor": 0
}