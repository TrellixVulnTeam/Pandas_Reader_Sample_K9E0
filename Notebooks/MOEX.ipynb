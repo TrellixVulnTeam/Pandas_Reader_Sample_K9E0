{
 "cells": [
  {
   "cell_type": "code",
   "execution_count": 19,
   "metadata": {
    "collapsed": true
   },
   "outputs": [
    {
     "name": "stdout",
     "output_type": "stream",
     "text": [
      "            ADMITTEDQUOTE  ADMITTEDVALUE  BEICLOSE  BID BOARDID BOARDNAME  BUYBACKDATE  CBRCLOSE   CLOSE CLOSEAUCTIONPRICE CLOSEPERIOD CLOSEVAL  COUPONPERCENT  COUPONVALUE CURRENCYID DAILYCAPITALIZATION  DECIMALS FACEUNIT  FACEVALUE    HIGH HIGHBID  IRICPICLOSE ISIN ISSUESIZE LASTPRICE LASTTRADEDATE  LEGALCLOSEPRICE LEGALOPENPRICE LISTNAME     LOW LOWOFFER MARKETPRICE  MARKETPRICE2  MARKETPRICE3 MARKETPRICE3CUR  MARKETPRICE3TRADESVALUE MARKETPRICE3TRADESVALUECUR MONTHLYCAPITALIZATION  MP2VALTRD MPVALTRD  NUMBID  NUMOFFER  NUMTRADES  OFFER  OFFERDATE    OPEN OPENPERIOD OPENVAL PREV PREVLEGALCLOSEPRICE REGNUMBER SECID SHORTNAME  TRADINGSESSION TRENDCLOSE TRENDCLSPR TRENDWAP TRENDWAPPR TYPE        VALUE     VOLUME  WAPRICE  WAVAL  YIELDLASTCOUPON  YIELDTOOFFER\n",
      "TRADEDATE                                                                                                                                                                                                                                                                                                                                                                                                                                                                                                                                                                                                                                                                                                                                                                                      \n",
      "2019-09-02            NaN            NaN       NaN  NaN    PTEQ       NaN          NaN       NaN  226.68               NaN         NaN      NaN            NaN          NaN        SUR                 NaN       NaN      RUB        3.0  226.68     NaN          NaN  NaN       NaN       NaN    2019-09-02              NaN            NaN      NaN  226.68      NaN         NaN           NaN           NaN             NaN                      NaN                        NaN                   NaN        NaN      NaN     NaN       NaN       18.0    NaN        NaN  226.68        NaN     NaN  NaN                 NaN       NaN  SBER  Сбербанк             3.0        NaN        NaN      NaN        NaN  NaN    5435786.4    23980.0   226.28    NaN              NaN           NaN\n",
      "2019-09-03            NaN            NaN       NaN  NaN    PSEQ       NaN          NaN       NaN  224.60               NaN         NaN      NaN            NaN          NaN        SUR                 NaN       NaN      RUB        3.0  224.60     NaN          NaN  NaN       NaN       NaN    2019-09-03              NaN            NaN      NaN  224.60      NaN         NaN           NaN           NaN             NaN                      NaN                        NaN                   NaN        NaN      NaN     NaN       NaN        1.0    NaN        NaN  224.60        NaN     NaN  NaN                 NaN       NaN  SBER  Сбербанк             3.0        NaN        NaN      NaN        NaN  NaN    6738000.0    30000.0   223.69    NaN              NaN           NaN\n",
      "2019-09-03            NaN            NaN       NaN  NaN    PTEQ       NaN          NaN       NaN  224.00               NaN         NaN      NaN            NaN          NaN        SUR                 NaN       NaN      RUB        3.0  224.00     NaN          NaN  NaN       NaN       NaN    2019-09-03              NaN            NaN      NaN  222.66      NaN         NaN           NaN           NaN             NaN                      NaN                        NaN                   NaN        NaN      NaN     NaN       NaN       16.0    NaN        NaN  222.66        NaN     NaN  NaN                 NaN       NaN  SBER  Сбербанк             3.0        NaN        NaN      NaN        NaN  NaN  393903043.8  1767400.0   223.69    NaN              NaN           NaN\n",
      "2019-09-04            NaN            NaN       NaN  NaN    PTEQ       NaN          NaN       NaN  227.10               NaN         NaN      NaN            NaN          NaN        SUR                 NaN       NaN      RUB        3.0  227.10     NaN          NaN  NaN       NaN       NaN    2019-09-04              NaN            NaN      NaN  226.55      NaN         NaN           NaN           NaN             NaN                      NaN                        NaN                   NaN        NaN      NaN     NaN       NaN       11.0    NaN        NaN  226.55        NaN     NaN  NaN                 NaN       NaN  SBER  Сбербанк             3.0        NaN        NaN      NaN        NaN  NaN   29098830.5   128430.0   226.08    NaN              NaN           NaN\n",
      "2019-09-05            NaN            NaN       NaN  NaN    PSEQ       NaN          NaN       NaN  228.71               NaN         NaN      NaN            NaN          NaN        SUR                 NaN       NaN      RUB        3.0  228.71     NaN          NaN  NaN       NaN       NaN    2019-09-05              NaN            NaN      NaN  228.71      NaN         NaN           NaN           NaN             NaN                      NaN                        NaN                   NaN        NaN      NaN     NaN       NaN        1.0    NaN        NaN  228.71        NaN     NaN  NaN                 NaN       NaN  SBER  Сбербанк             3.0        NaN        NaN      NaN        NaN  NaN     395668.3     1730.0   229.75    NaN              NaN           NaN\n",
      "           Company  Close_Price  Open_Price\n",
      "Date                                       \n",
      "2019-09-02    SBER       226.68      226.28\n",
      "2019-09-03    SBER       224.60      223.69\n",
      "2019-09-03    SBER       224.00      223.69\n",
      "2019-09-04    SBER       227.10      226.08\n",
      "2019-09-05    SBER       228.71      229.75\n",
      "...            ...          ...         ...\n",
      "2019-09-24    SBER          NaN         NaN\n",
      "2019-09-25    SBER          NaN         NaN\n",
      "2019-09-26    SBER          NaN         NaN\n",
      "2019-09-27    SBER          NaN         NaN\n",
      "2019-09-30    SBER          NaN         NaN\n",
      "\n",
      "[220 rows x 3 columns]\n"
     ]
    },
    {
     "name": "stderr",
     "output_type": "stream",
     "text": [
      "C:\\Users\\ilyazharkov\\PycharmProjects\\Pandas_Reader_Sample\\venv\\lib\\site-packages\\pandas\\core\\frame.py:4304: SettingWithCopyWarning: \n",
      "A value is trying to be set on a copy of a slice from a DataFrame\n",
      "\n",
      "See the caveats in the documentation: https://pandas.pydata.org/pandas-docs/stable/user_guide/indexing.html#returning-a-view-versus-a-copy\n",
      "  errors=errors,\n"
     ]
    }
   ],
   "source": [
    "import matplotlib\n",
    "from pandas_datareader import data\n",
    "comp_all = data.DataReader(\"SBER\",\n",
    "                      start='2019-09-1',\n",
    "                      end='2019-09-30',\n",
    "                      data_source='moex')\n",
    "print(comp_all.head().to_string())\n",
    "output = comp_all[['SECID', 'CLOSE', 'WAPRICE']]\n",
    "output.index.rename('Date', inplace=True)\n",
    "output.rename( columns={'SECID':'Company',\n",
    "                        'CLOSE':'Close_Price',\n",
    "                        'WAPRICE':'Open_Price'}\n",
    "              , inplace=True)\n",
    "print(output)\n",
    "#"
   ]
  },
  {
   "cell_type": "code",
   "execution_count": 25,
   "outputs": [
    {
     "name": "stdout",
     "output_type": "stream",
     "text": [
      "            ADMITTEDQUOTE  ADMITTEDVALUE  BEICLOSE  BID BOARDID BOARDNAME  BUYBACKDATE  CBRCLOSE   CLOSE CLOSEAUCTIONPRICE CLOSEPERIOD CLOSEVAL  COUPONPERCENT  COUPONVALUE CURRENCYID DAILYCAPITALIZATION  DECIMALS FACEUNIT  FACEVALUE    HIGH HIGHBID  IRICPICLOSE ISIN ISSUESIZE LASTPRICE LASTTRADEDATE  LEGALCLOSEPRICE LEGALOPENPRICE LISTNAME     LOW LOWOFFER MARKETPRICE  MARKETPRICE2  MARKETPRICE3 MARKETPRICE3CUR  MARKETPRICE3TRADESVALUE MARKETPRICE3TRADESVALUECUR MONTHLYCAPITALIZATION     MP2VALTRD MPVALTRD  NUMBID  NUMOFFER  NUMTRADES  OFFER  OFFERDATE    OPEN OPENPERIOD OPENVAL PREV PREVLEGALCLOSEPRICE REGNUMBER SECID SHORTNAME  TRADINGSESSION TRENDCLOSE TRENDCLSPR TRENDWAP TRENDWAPPR TYPE         VALUE      VOLUME  WAPRICE  WAVAL  YIELDLASTCOUPON  YIELDTOOFFER\n",
      "Date                                                                                                                                                                                                                                                                                                                                                                                                                                                                                                                                                                                                                                                                                                                                                                                                \n",
      "2019-09-02         226.68   8.811802e+09       NaN  NaN    TQBR       NaN          NaN       NaN  226.68               NaN         NaN      NaN            NaN          NaN        NaN                 NaN       NaN      NaN        NaN  227.84     NaN          NaN  NaN       NaN       NaN           NaN           226.68            NaN      NaN  223.41      NaN         NaN        226.28        226.28             NaN             8.811802e+09                        NaN                   NaN  8.811802e+09      NaN     NaN       NaN    51078.0    NaN        NaN  224.10        NaN     NaN  NaN                 NaN       NaN  SBER  Сбербанк             3.0        NaN        NaN      NaN        NaN  NaN  8.811802e+09  38941480.0   226.28    NaN              NaN           NaN\n",
      "2019-09-03         224.00   9.969138e+09       NaN  NaN    TQBR       NaN          NaN       NaN  224.00               NaN         NaN      NaN            NaN          NaN        NaN                 NaN       NaN      NaN        NaN  226.25     NaN          NaN  NaN       NaN       NaN           NaN           224.00            NaN      NaN  222.05      NaN         NaN        223.72        223.72             NaN             9.969138e+09                        NaN                   NaN  9.969138e+09      NaN     NaN       NaN    52109.0    NaN        NaN  225.95        NaN     NaN  NaN                 NaN       NaN  SBER  Сбербанк             3.0        NaN        NaN      NaN        NaN  NaN  9.969138e+09  44560910.0   223.69    NaN              NaN           NaN\n",
      "2019-09-04         227.10   9.419149e+09       NaN  NaN    TQBR       NaN          NaN       NaN  227.10               NaN         NaN      NaN            NaN          NaN        NaN                 NaN       NaN      NaN        NaN  227.50     NaN          NaN  NaN       NaN       NaN           NaN           227.10            NaN      NaN  224.69      NaN         NaN        226.08        226.08             NaN             9.419149e+09                        NaN                   NaN  9.419149e+09      NaN     NaN       NaN    48847.0    NaN        NaN  225.30        NaN     NaN  NaN                 NaN       NaN  SBER  Сбербанк             3.0        NaN        NaN      NaN        NaN  NaN  9.419149e+09  41663520.0   226.08    NaN              NaN           NaN\n",
      "2019-09-05         230.79   1.261379e+10       NaN  NaN    TQBR       NaN          NaN       NaN  230.79               NaN         NaN      NaN            NaN          NaN        NaN                 NaN       NaN      NaN        NaN  230.93     NaN          NaN  NaN       NaN       NaN           NaN           230.79            NaN      NaN  228.36      NaN         NaN        229.76        229.76             NaN             1.261379e+10                        NaN                   NaN  1.261379e+10      NaN     NaN       NaN    59187.0    NaN        NaN  229.50        NaN     NaN  NaN                 NaN       NaN  SBER  Сбербанк             3.0        NaN        NaN      NaN        NaN  NaN  1.261379e+10  54900790.0   229.75    NaN              NaN           NaN\n",
      "2019-09-06         229.02   8.712649e+09       NaN  NaN    TQBR       NaN          NaN       NaN  229.02               NaN         NaN      NaN            NaN          NaN        NaN                 NaN       NaN      NaN        NaN  231.20     NaN          NaN  NaN       NaN       NaN           NaN           229.02            NaN      NaN  228.36      NaN         NaN        229.63        229.63             NaN             8.712649e+09                        NaN                   NaN  8.712649e+09      NaN     NaN       NaN    45452.0    NaN        NaN  231.00        NaN     NaN  NaN                 NaN       NaN  SBER  Сбербанк             3.0        NaN        NaN      NaN        NaN  NaN  8.712649e+09  37942350.0   229.63    NaN              NaN           NaN\n",
      "2019-09-09         229.00   5.221598e+09       NaN  NaN    TQBR       NaN          NaN       NaN  229.00               NaN         NaN      NaN            NaN          NaN        NaN                 NaN       NaN      NaN        NaN  230.87     NaN          NaN  NaN       NaN       NaN           NaN           229.00            NaN      NaN  227.61      NaN         NaN        229.07        229.07             NaN             5.221598e+09                        NaN                   NaN  5.221598e+09      NaN     NaN       NaN    30024.0    NaN        NaN  229.88        NaN     NaN  NaN                 NaN       NaN  SBER  Сбербанк             3.0        NaN        NaN      NaN        NaN  NaN  5.221598e+09  22795060.0   229.07    NaN              NaN           NaN\n",
      "2019-09-10         233.30   1.400259e+10       NaN  NaN    TQBR       NaN          NaN       NaN  233.30               NaN         NaN      NaN            NaN          NaN        NaN                 NaN       NaN      NaN        NaN  235.23     NaN          NaN  NaN       NaN       NaN           NaN           233.30            NaN      NaN  227.10      NaN         NaN        231.84        231.84             NaN             1.400259e+10                        NaN                   NaN  1.400259e+10      NaN     NaN       NaN    73293.0    NaN        NaN  228.50        NaN     NaN  NaN                 NaN       NaN  SBER  Сбербанк             3.0        NaN        NaN      NaN        NaN  NaN  1.400259e+10  60396660.0   231.84    NaN              NaN           NaN\n",
      "2019-09-11         234.72   9.829198e+09       NaN  NaN    TQBR       NaN          NaN       NaN  234.72               NaN         NaN      NaN            NaN          NaN        NaN                 NaN       NaN      NaN        NaN  235.90     NaN          NaN  NaN       NaN       NaN           NaN           234.72            NaN      NaN  232.62      NaN         NaN        234.43        234.43             NaN             9.829198e+09                        NaN                   NaN  9.829198e+09      NaN     NaN       NaN    53767.0    NaN        NaN  233.49        NaN     NaN  NaN                 NaN       NaN  SBER  Сбербанк             3.0        NaN        NaN      NaN        NaN  NaN  9.829198e+09  41927500.0   234.43    NaN              NaN           NaN\n",
      "2019-09-12         234.57   9.129512e+09       NaN  NaN    TQBR       NaN          NaN       NaN  234.57               NaN         NaN      NaN            NaN          NaN        NaN                 NaN       NaN      NaN        NaN  235.42     NaN          NaN  NaN       NaN       NaN           NaN           234.57            NaN      NaN  232.81      NaN         NaN        234.22        234.22             NaN             9.129512e+09                        NaN                   NaN  9.129512e+09      NaN     NaN       NaN    47085.0    NaN        NaN  234.90        NaN     NaN  NaN                 NaN       NaN  SBER  Сбербанк             3.0        NaN        NaN      NaN        NaN  NaN  9.129512e+09  38978190.0   234.22    NaN              NaN           NaN\n",
      "2019-09-13         233.00   5.393665e+09       NaN  NaN    TQBR       NaN          NaN       NaN  233.00               NaN         NaN      NaN            NaN          NaN        NaN                 NaN       NaN      NaN        NaN  235.00     NaN          NaN  NaN       NaN       NaN           NaN           233.00            NaN      NaN  231.91      NaN         NaN        233.39        233.39             NaN             5.393665e+09                        NaN                   NaN  5.393665e+09      NaN     NaN       NaN    30057.0    NaN        NaN  234.12        NaN     NaN  NaN                 NaN       NaN  SBER  Сбербанк             3.0        NaN        NaN      NaN        NaN  NaN  5.393665e+09  23109620.0   233.39    NaN              NaN           NaN\n",
      "2019-09-16         235.32   9.289730e+09       NaN  NaN    TQBR       NaN          NaN       NaN  235.32               NaN         NaN      NaN            NaN          NaN        NaN                 NaN       NaN      NaN        NaN  235.53     NaN          NaN  NaN       NaN       NaN           NaN           235.32            NaN      NaN  233.20      NaN         NaN        234.77        234.77             NaN             9.289730e+09                        NaN                   NaN  9.289730e+09      NaN     NaN       NaN    42451.0    NaN        NaN  235.00        NaN     NaN  NaN                 NaN       NaN  SBER  Сбербанк             3.0        NaN        NaN      NaN        NaN  NaN  9.289730e+09  39568910.0   234.77    NaN              NaN           NaN\n",
      "2019-09-17         235.89   1.312818e+10       NaN  NaN    TQBR       NaN          NaN       NaN  235.89               NaN         NaN      NaN            NaN          NaN        NaN                 NaN       NaN      NaN        NaN  237.20     NaN          NaN  NaN       NaN       NaN           NaN           235.89            NaN      NaN  233.99      NaN         NaN        235.40        235.40             NaN             1.312818e+10                        NaN                   NaN  1.312818e+10      NaN     NaN       NaN    56032.0    NaN        NaN  235.22        NaN     NaN  NaN                 NaN       NaN  SBER  Сбербанк             3.0        NaN        NaN      NaN        NaN  NaN  1.312818e+10  55770430.0   235.40    NaN              NaN           NaN\n",
      "2019-09-18         235.30   6.027761e+09       NaN  NaN    TQBR       NaN          NaN       NaN  235.30               NaN         NaN      NaN            NaN          NaN        NaN                 NaN       NaN      NaN        NaN  236.45     NaN          NaN  NaN       NaN       NaN           NaN           235.30            NaN      NaN  234.45      NaN         NaN        235.46        235.46             NaN             6.027761e+09                        NaN                   NaN  6.027761e+09      NaN     NaN       NaN    30680.0    NaN        NaN  235.80        NaN     NaN  NaN                 NaN       NaN  SBER  Сбербанк             3.0        NaN        NaN      NaN        NaN  NaN  6.027761e+09  25599810.0   235.46    NaN              NaN           NaN\n",
      "2019-09-19         234.98   9.249295e+09       NaN  NaN    TQBR       NaN          NaN       NaN  234.98               NaN         NaN      NaN            NaN          NaN        NaN                 NaN       NaN      NaN        NaN  235.49     NaN          NaN  NaN       NaN       NaN           NaN           234.98            NaN      NaN  233.12      NaN         NaN        234.47        234.47             NaN             9.249295e+09                        NaN                   NaN  9.249295e+09      NaN     NaN       NaN    49193.0    NaN        NaN  234.86        NaN     NaN  NaN                 NaN       NaN  SBER  Сбербанк             3.0        NaN        NaN      NaN        NaN  NaN  9.249295e+09  39447820.0   234.47    NaN              NaN           NaN\n",
      "2019-09-20         232.00   9.437219e+09       NaN  NaN    TQBR       NaN          NaN       NaN  232.00               NaN         NaN      NaN            NaN          NaN        NaN                 NaN       NaN      NaN        NaN  235.50     NaN          NaN  NaN       NaN       NaN           NaN           232.00            NaN      NaN  230.72      NaN         NaN        232.22        232.22             NaN             9.437219e+09                        NaN                   NaN  9.437219e+09      NaN     NaN       NaN    46684.0    NaN        NaN  235.00        NaN     NaN  NaN                 NaN       NaN  SBER  Сбербанк             3.0        NaN        NaN      NaN        NaN  NaN  9.437219e+09  40638980.0   232.22    NaN              NaN           NaN\n",
      "2019-09-23         229.70   6.489165e+09       NaN  NaN    TQBR       NaN          NaN       NaN  229.70               NaN         NaN      NaN            NaN          NaN        NaN                 NaN       NaN      NaN        NaN  232.17     NaN          NaN  NaN       NaN       NaN           NaN           229.70            NaN      NaN  229.05      NaN         NaN        230.12        230.12             NaN             6.489165e+09                        NaN                   NaN  6.489165e+09      NaN     NaN       NaN    35148.0    NaN        NaN  231.70        NaN     NaN  NaN                 NaN       NaN  SBER  Сбербанк             3.0        NaN        NaN      NaN        NaN  NaN  6.489165e+09  28199640.0   230.11    NaN              NaN           NaN\n",
      "2019-09-24         227.50   9.972579e+09       NaN  NaN    TQBR       NaN          NaN       NaN  227.50               NaN         NaN      NaN            NaN          NaN        NaN                 NaN       NaN      NaN        NaN  231.99     NaN          NaN  NaN       NaN       NaN           NaN           227.50            NaN      NaN  227.11      NaN         NaN        229.73        229.73             NaN             9.972579e+09                        NaN                   NaN  9.972579e+09      NaN     NaN       NaN    54693.0    NaN        NaN  230.00        NaN     NaN  NaN                 NaN       NaN  SBER  Сбербанк             3.0        NaN        NaN      NaN        NaN  NaN  9.972579e+09  43410340.0   229.72    NaN              NaN           NaN\n",
      "2019-09-25         228.09   8.611836e+09       NaN  NaN    TQBR       NaN          NaN       NaN  228.09               NaN         NaN      NaN            NaN          NaN        NaN                 NaN       NaN      NaN        NaN  228.30     NaN          NaN  NaN       NaN       NaN           NaN           228.09            NaN      NaN  225.30      NaN         NaN        226.78        226.78             NaN             8.611836e+09                        NaN                   NaN  8.611836e+09      NaN     NaN       NaN    46485.0    NaN        NaN  226.50        NaN     NaN  NaN                 NaN       NaN  SBER  Сбербанк             3.0        NaN        NaN      NaN        NaN  NaN  8.611836e+09  37974670.0   226.78    NaN              NaN           NaN\n",
      "2019-09-26         229.09   7.512188e+09       NaN  NaN    TQBR       NaN          NaN       NaN  229.09               NaN         NaN      NaN            NaN          NaN        NaN                 NaN       NaN      NaN        NaN  230.90     NaN          NaN  NaN       NaN       NaN           NaN           229.09            NaN      NaN  227.71      NaN         NaN        229.45        229.45             NaN             7.512188e+09                        NaN                   NaN  7.512188e+09      NaN     NaN       NaN    43085.0    NaN        NaN  228.21        NaN     NaN  NaN                 NaN       NaN  SBER  Сбербанк             3.0        NaN        NaN      NaN        NaN  NaN  7.512188e+09  32739690.0   229.46    NaN              NaN           NaN\n",
      "2019-09-27         228.05   4.135962e+09       NaN  NaN    TQBR       NaN          NaN       NaN  228.05               NaN         NaN      NaN            NaN          NaN        NaN                 NaN       NaN      NaN        NaN  229.96     NaN          NaN  NaN       NaN       NaN           NaN           228.05            NaN      NaN  228.05      NaN         NaN        228.98        228.98             NaN             4.135962e+09                        NaN                   NaN  4.135962e+09      NaN     NaN       NaN    27733.0    NaN        NaN  229.20        NaN     NaN  NaN                 NaN       NaN  SBER  Сбербанк             3.0        NaN        NaN      NaN        NaN  NaN  4.135962e+09  18062510.0   228.98    NaN              NaN           NaN\n",
      "2019-09-30         227.71   6.876687e+09       NaN  NaN    TQBR       NaN          NaN       NaN  227.71               NaN         NaN      NaN            NaN          NaN        NaN                 NaN       NaN      NaN        NaN  229.00     NaN          NaN  NaN       NaN       NaN           NaN           227.71            NaN      NaN  226.05      NaN         NaN        227.43        227.43             NaN             6.876687e+09                        NaN                   NaN  6.876687e+09      NaN     NaN       NaN    43008.0    NaN        NaN  228.50        NaN     NaN  NaN                 NaN       NaN  SBER  Сбербанк             3.0        NaN        NaN      NaN        NaN  NaN  6.876687e+09  30235910.0   227.43    NaN              NaN           NaN\n"
     ]
    }
   ],
   "source": [
    "comp_all.query('BOARDID == \"TQBR\"', inplace=True)\n",
    "print(comp_all.to_string())\n",
    "\n"
   ],
   "metadata": {
    "collapsed": false,
    "pycharm": {
     "name": "#%%\n"
    }
   }
  },
  {
   "cell_type": "code",
   "execution_count": 21,
   "outputs": [
    {
     "name": "stdout",
     "output_type": "stream",
     "text": [
      "Date\n",
      "2019-09-02    226.28\n",
      "2019-09-03    223.69\n",
      "2019-09-04    226.08\n",
      "2019-09-05    229.75\n",
      "2019-09-06    229.63\n",
      "2019-09-09    229.07\n",
      "2019-09-10    231.84\n",
      "2019-09-11    234.43\n",
      "2019-09-12    234.22\n",
      "2019-09-13    233.39\n",
      "2019-09-16    234.77\n",
      "2019-09-17    235.40\n",
      "2019-09-18    235.46\n",
      "2019-09-19    234.47\n",
      "2019-09-20    232.22\n",
      "2019-09-23    230.11\n",
      "2019-09-24    229.72\n",
      "2019-09-25    226.78\n",
      "2019-09-26    229.46\n",
      "2019-09-27    228.98\n",
      "2019-09-30    227.43\n"
     ]
    }
   ],
   "source": [
    "comp = comp_all['WAPRICE']\n",
    "comp.drop_duplicates(keep=False, inplace=True)\n",
    "print(comp.to_string())\n"
   ],
   "metadata": {
    "collapsed": false,
    "pycharm": {
     "name": "#%%\n"
    }
   }
  },
  {
   "cell_type": "code",
   "execution_count": 22,
   "outputs": [
    {
     "data": {
      "text/plain": "<AxesSubplot:title={'center':'AAPL Adj. Closing Price'}, xlabel='Date'>"
     },
     "execution_count": 22,
     "metadata": {},
     "output_type": "execute_result"
    },
    {
     "data": {
      "text/plain": "<Figure size 432x288 with 1 Axes>",
      "image/png": "[encoded data removed]"
     },
     "metadata": {
      "needs_background": "light"
     },
     "output_type": "display_data"
    }
   ],
   "source": [
    "comp.plot(kind='line', x='TRADEDATE', y='WAPRICE', title='AAPL Adj. Closing Price')"
   ],
   "metadata": {
    "collapsed": false,
    "pycharm": {
     "name": "#%%\n"
    }
   }
  },
  {
   "cell_type": "code",
   "execution_count": 23,
   "outputs": [
    {
     "name": "stdout",
     "output_type": "stream",
     "text": [
      "[230.5663674  231.85315586 232.98617667 233.84993181 234.62522159\n",
      " 234.90313761 234.7298009  234.30069948 233.60963526 232.56399861]\n"
     ]
    }
   ],
   "source": [
    "import Subroutines.Smooth as subr\n",
    "smooth = subr.savitzky_golay(comp.values, 51, 10)\n",
    "print(smooth[:10])"
   ],
   "metadata": {
    "collapsed": false,
    "pycharm": {
     "name": "#%%\n"
    }
   }
  },
  {
   "cell_type": "code",
   "execution_count": 24,
   "outputs": [
    {
     "name": "stdout",
     "output_type": "stream",
     "text": [
      "[1.5673824e+18 1.5674688e+18 1.5675552e+18 1.5676416e+18 1.5677280e+18\n",
      " 1.5679872e+18 1.5680736e+18 1.5681600e+18 1.5682464e+18 1.5683328e+18]\n",
      "[0.         0.75539568 1.51079137 2.26618705 3.02158273 5.28776978\n",
      " 6.04316547 6.79856115 7.55395683 8.30935252]\n"
     ]
    },
    {
     "ename": "ValueError",
     "evalue": "x and y must have same first dimension, but have shapes (21,) and (11,)",
     "output_type": "error",
     "traceback": [
      "\u001B[1;31m---------------------------------------------------------------------------\u001B[0m",
      "\u001B[1;31mValueError\u001B[0m                                Traceback (most recent call last)",
      "\u001B[1;32m<ipython-input-24-48e46b941c69>\u001B[0m in \u001B[0;36m<module>\u001B[1;34m\u001B[0m\n\u001B[0;32m      9\u001B[0m \u001B[0mxfloat\u001B[0m \u001B[1;33m=\u001B[0m \u001B[0mxfloat\u001B[0m \u001B[1;33m/\u001B[0m \u001B[1;33m(\u001B[0m \u001B[0mnp\u001B[0m\u001B[1;33m.\u001B[0m\u001B[0mmean\u001B[0m\u001B[1;33m(\u001B[0m\u001B[0mxfloat\u001B[0m\u001B[1;33m)\u001B[0m \u001B[1;33m/\u001B[0m \u001B[1;36m10.\u001B[0m\u001B[1;33m)\u001B[0m\u001B[1;33m\u001B[0m\u001B[1;33m\u001B[0m\u001B[0m\n\u001B[0;32m     10\u001B[0m \u001B[0mprint\u001B[0m\u001B[1;33m(\u001B[0m\u001B[0mxfloat\u001B[0m\u001B[1;33m[\u001B[0m\u001B[1;33m:\u001B[0m\u001B[1;36m10\u001B[0m\u001B[1;33m]\u001B[0m\u001B[1;33m)\u001B[0m\u001B[1;33m\u001B[0m\u001B[1;33m\u001B[0m\u001B[0m\n\u001B[1;32m---> 11\u001B[1;33m \u001B[0mplt\u001B[0m\u001B[1;33m.\u001B[0m\u001B[0mplot\u001B[0m\u001B[1;33m(\u001B[0m\u001B[0mxfloat\u001B[0m\u001B[1;33m,\u001B[0m \u001B[0msmooth\u001B[0m\u001B[1;33m)\u001B[0m\u001B[1;33m\u001B[0m\u001B[1;33m\u001B[0m\u001B[0m\n\u001B[0m\u001B[0;32m     12\u001B[0m \u001B[0mplt\u001B[0m\u001B[1;33m.\u001B[0m\u001B[0mshow\u001B[0m\u001B[1;33m(\u001B[0m\u001B[1;33m)\u001B[0m\u001B[1;33m\u001B[0m\u001B[1;33m\u001B[0m\u001B[0m\n\u001B[0;32m     13\u001B[0m \u001B[1;33m\u001B[0m\u001B[0m\n",
      "\u001B[1;32m~\\PycharmProjects\\Pandas_Reader_Sample\\venv\\lib\\site-packages\\matplotlib\\pyplot.py\u001B[0m in \u001B[0;36mplot\u001B[1;34m(scalex, scaley, data, *args, **kwargs)\u001B[0m\n\u001B[0;32m   2840\u001B[0m     return gca().plot(\n\u001B[0;32m   2841\u001B[0m         \u001B[1;33m*\u001B[0m\u001B[0margs\u001B[0m\u001B[1;33m,\u001B[0m \u001B[0mscalex\u001B[0m\u001B[1;33m=\u001B[0m\u001B[0mscalex\u001B[0m\u001B[1;33m,\u001B[0m \u001B[0mscaley\u001B[0m\u001B[1;33m=\u001B[0m\u001B[0mscaley\u001B[0m\u001B[1;33m,\u001B[0m\u001B[1;33m\u001B[0m\u001B[1;33m\u001B[0m\u001B[0m\n\u001B[1;32m-> 2842\u001B[1;33m         **({\"data\": data} if data is not None else {}), **kwargs)\n\u001B[0m\u001B[0;32m   2843\u001B[0m \u001B[1;33m\u001B[0m\u001B[0m\n\u001B[0;32m   2844\u001B[0m \u001B[1;33m\u001B[0m\u001B[0m\n",
      "\u001B[1;32m~\\PycharmProjects\\Pandas_Reader_Sample\\venv\\lib\\site-packages\\matplotlib\\axes\\_axes.py\u001B[0m in \u001B[0;36mplot\u001B[1;34m(self, scalex, scaley, data, *args, **kwargs)\u001B[0m\n\u001B[0;32m   1741\u001B[0m         \"\"\"\n\u001B[0;32m   1742\u001B[0m         \u001B[0mkwargs\u001B[0m \u001B[1;33m=\u001B[0m \u001B[0mcbook\u001B[0m\u001B[1;33m.\u001B[0m\u001B[0mnormalize_kwargs\u001B[0m\u001B[1;33m(\u001B[0m\u001B[0mkwargs\u001B[0m\u001B[1;33m,\u001B[0m \u001B[0mmlines\u001B[0m\u001B[1;33m.\u001B[0m\u001B[0mLine2D\u001B[0m\u001B[1;33m)\u001B[0m\u001B[1;33m\u001B[0m\u001B[1;33m\u001B[0m\u001B[0m\n\u001B[1;32m-> 1743\u001B[1;33m         \u001B[0mlines\u001B[0m \u001B[1;33m=\u001B[0m \u001B[1;33m[\u001B[0m\u001B[1;33m*\u001B[0m\u001B[0mself\u001B[0m\u001B[1;33m.\u001B[0m\u001B[0m_get_lines\u001B[0m\u001B[1;33m(\u001B[0m\u001B[1;33m*\u001B[0m\u001B[0margs\u001B[0m\u001B[1;33m,\u001B[0m \u001B[0mdata\u001B[0m\u001B[1;33m=\u001B[0m\u001B[0mdata\u001B[0m\u001B[1;33m,\u001B[0m \u001B[1;33m**\u001B[0m\u001B[0mkwargs\u001B[0m\u001B[1;33m)\u001B[0m\u001B[1;33m]\u001B[0m\u001B[1;33m\u001B[0m\u001B[1;33m\u001B[0m\u001B[0m\n\u001B[0m\u001B[0;32m   1744\u001B[0m         \u001B[1;32mfor\u001B[0m \u001B[0mline\u001B[0m \u001B[1;32min\u001B[0m \u001B[0mlines\u001B[0m\u001B[1;33m:\u001B[0m\u001B[1;33m\u001B[0m\u001B[1;33m\u001B[0m\u001B[0m\n\u001B[0;32m   1745\u001B[0m             \u001B[0mself\u001B[0m\u001B[1;33m.\u001B[0m\u001B[0madd_line\u001B[0m\u001B[1;33m(\u001B[0m\u001B[0mline\u001B[0m\u001B[1;33m)\u001B[0m\u001B[1;33m\u001B[0m\u001B[1;33m\u001B[0m\u001B[0m\n",
      "\u001B[1;32m~\\PycharmProjects\\Pandas_Reader_Sample\\venv\\lib\\site-packages\\matplotlib\\axes\\_base.py\u001B[0m in \u001B[0;36m__call__\u001B[1;34m(self, data, *args, **kwargs)\u001B[0m\n\u001B[0;32m    271\u001B[0m                 \u001B[0mthis\u001B[0m \u001B[1;33m+=\u001B[0m \u001B[0margs\u001B[0m\u001B[1;33m[\u001B[0m\u001B[1;36m0\u001B[0m\u001B[1;33m]\u001B[0m\u001B[1;33m,\u001B[0m\u001B[1;33m\u001B[0m\u001B[1;33m\u001B[0m\u001B[0m\n\u001B[0;32m    272\u001B[0m                 \u001B[0margs\u001B[0m \u001B[1;33m=\u001B[0m \u001B[0margs\u001B[0m\u001B[1;33m[\u001B[0m\u001B[1;36m1\u001B[0m\u001B[1;33m:\u001B[0m\u001B[1;33m]\u001B[0m\u001B[1;33m\u001B[0m\u001B[1;33m\u001B[0m\u001B[0m\n\u001B[1;32m--> 273\u001B[1;33m             \u001B[1;32myield\u001B[0m \u001B[1;32mfrom\u001B[0m \u001B[0mself\u001B[0m\u001B[1;33m.\u001B[0m\u001B[0m_plot_args\u001B[0m\u001B[1;33m(\u001B[0m\u001B[0mthis\u001B[0m\u001B[1;33m,\u001B[0m \u001B[0mkwargs\u001B[0m\u001B[1;33m)\u001B[0m\u001B[1;33m\u001B[0m\u001B[1;33m\u001B[0m\u001B[0m\n\u001B[0m\u001B[0;32m    274\u001B[0m \u001B[1;33m\u001B[0m\u001B[0m\n\u001B[0;32m    275\u001B[0m     \u001B[1;32mdef\u001B[0m \u001B[0mget_next_color\u001B[0m\u001B[1;33m(\u001B[0m\u001B[0mself\u001B[0m\u001B[1;33m)\u001B[0m\u001B[1;33m:\u001B[0m\u001B[1;33m\u001B[0m\u001B[1;33m\u001B[0m\u001B[0m\n",
      "\u001B[1;32m~\\PycharmProjects\\Pandas_Reader_Sample\\venv\\lib\\site-packages\\matplotlib\\axes\\_base.py\u001B[0m in \u001B[0;36m_plot_args\u001B[1;34m(self, tup, kwargs)\u001B[0m\n\u001B[0;32m    397\u001B[0m \u001B[1;33m\u001B[0m\u001B[0m\n\u001B[0;32m    398\u001B[0m         \u001B[1;32mif\u001B[0m \u001B[0mx\u001B[0m\u001B[1;33m.\u001B[0m\u001B[0mshape\u001B[0m\u001B[1;33m[\u001B[0m\u001B[1;36m0\u001B[0m\u001B[1;33m]\u001B[0m \u001B[1;33m!=\u001B[0m \u001B[0my\u001B[0m\u001B[1;33m.\u001B[0m\u001B[0mshape\u001B[0m\u001B[1;33m[\u001B[0m\u001B[1;36m0\u001B[0m\u001B[1;33m]\u001B[0m\u001B[1;33m:\u001B[0m\u001B[1;33m\u001B[0m\u001B[1;33m\u001B[0m\u001B[0m\n\u001B[1;32m--> 399\u001B[1;33m             raise ValueError(f\"x and y must have same first dimension, but \"\n\u001B[0m\u001B[0;32m    400\u001B[0m                              f\"have shapes {x.shape} and {y.shape}\")\n\u001B[0;32m    401\u001B[0m         \u001B[1;32mif\u001B[0m \u001B[0mx\u001B[0m\u001B[1;33m.\u001B[0m\u001B[0mndim\u001B[0m \u001B[1;33m>\u001B[0m \u001B[1;36m2\u001B[0m \u001B[1;32mor\u001B[0m \u001B[0my\u001B[0m\u001B[1;33m.\u001B[0m\u001B[0mndim\u001B[0m \u001B[1;33m>\u001B[0m \u001B[1;36m2\u001B[0m\u001B[1;33m:\u001B[0m\u001B[1;33m\u001B[0m\u001B[1;33m\u001B[0m\u001B[0m\n",
      "\u001B[1;31mValueError\u001B[0m: x and y must have same first dimension, but have shapes (21,) and (11,)"
     ]
    },
    {
     "data": {
      "text/plain": "<Figure size 432x288 with 1 Axes>",
      "image/png": "[encoded data removed]"
     },
     "metadata": {
      "needs_background": "light"
     },
     "output_type": "display_data"
    }
   ],
   "source": [
    "import pandas as pd\n",
    "import numpy as np\n",
    "import matplotlib.pyplot as plt\n",
    "x = comp.keys()\n",
    "xfloat = x.values.astype(float)\n",
    "print(xfloat[:10])\n",
    "minx = np.amin(xfloat)\n",
    "xfloat = xfloat - minx\n",
    "xfloat = xfloat / ( np.mean(xfloat) / 10.)\n",
    "print(xfloat[:10])\n",
    "plt.plot(xfloat, smooth)\n",
    "plt.show()"
   ],
   "metadata": {
    "collapsed": false,
    "pycharm": {
     "name": "#%%\n"
    }
   }
  },
  {
   "cell_type": "code",
   "execution_count": null,
   "outputs": [],
   "source": [
    "#import Subroutines.Approximation as ap\n",
    "#approximated = ap.approximation_polynomial(xfloat, smooth, dist=2, rate=5)\n",
    "weights = np.polyfit(x=xfloat, y=smooth, deg=125)\n",
    "approximated = np.polyval(weights, xfloat)\n",
    "plt.plot(xfloat, smooth, label='smooth')\n",
    "plt.plot(xfloat, approximated, label='approximated')\n",
    "plt.show()"
   ],
   "metadata": {
    "collapsed": false,
    "pycharm": {
     "name": "#%%\n"
    }
   }
  },
  {
   "cell_type": "code",
   "execution_count": null,
   "outputs": [],
   "source": [],
   "metadata": {
    "collapsed": false,
    "pycharm": {
     "name": "#%%\n"
    }
   }
  }
 ],
 "metadata": {
  "kernelspec": {
   "name": "pycharm-18c535e6",
   "language": "python",
   "display_name": "PyCharm (Pandas_Reader_Sample)"
  },
  "language_info": {
   "codemirror_mode": {
    "name": "ipython",
    "version": 2
   },
   "file_extension": ".py",
   "mimetype": "text/x-python",
   "name": "python",
   "nbconvert_exporter": "python",
   "pygments_lexer": "ipython2",
   "version": "2.7.6"
  }
 },
 "nbformat": 4,
 "nbformat_minor": 0
}