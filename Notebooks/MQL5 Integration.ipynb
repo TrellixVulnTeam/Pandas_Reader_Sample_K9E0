{
 "cells": [
  {
   "cell_type": "code",
   "execution_count": 43,
   "metadata": {
    "collapsed": true,
    "pycharm": {
     "name": "#%%\n"
    }
   },
   "outputs": [],
   "source": [
    "from datetime import datetime\n",
    "import matplotlib.pyplot as plt\n",
    "import pandas as pd\n",
    "from pandas.plotting import register_matplotlib_converters\n",
    "register_matplotlib_converters()\n",
    "import MetaTrader5 as mt5\n",
    "\n",
    "\n"
   ]
  },
  {
   "cell_type": "code",
   "execution_count": 44,
   "outputs": [
    {
     "name": "stdout",
     "output_type": "stream",
     "text": [
      "TerminalInfo(community_account=False, community_connection=False, connected=True, dlls_allowed=False, trade_allowed=False, tradeapi_disabled=False, email_enabled=False, ftp_enabled=False, notifications_enabled=False, mqid=False, build=2840, maxbars=100000, codepage=1251, ping_last=33118, community_balance=0.0, retransmission=0.5877624836732643, company='MetaQuotes Software Corp.', name='MetaTrader 5', language='Russian', path='C:\\\\Program Files\\\\MetaTrader 5', ...)\n",
      "(500, 2840, '19 Mar 2021')\n"
     ]
    }
   ],
   "source": [
    "# подключимся к MetaTrader 5\n",
    "if not mt5.initialize():\n",
    "    print(\"initialize() failed\")\n",
    "    mt5.shutdown()\n",
    "# запросим статус и параметры подключения\n",
    "print(mt5.terminal_info())\n",
    "# получим информацию о версии MetaTrader 5\n",
    "print(mt5.version())"
   ],
   "metadata": {
    "collapsed": false,
    "pycharm": {
     "name": "#%%\n"
    }
   }
  },
  {
   "cell_type": "code",
   "execution_count": 45,
   "outputs": [
    {
     "name": "stdout",
     "output_type": "stream",
     "text": [
      "(1590134400, 194., 194.35, 192.21, 193.4, 23633, 0, 1720589)\n",
      "(1590148800, 193.4, 195.76, 193.01, 195.21, 20720, 1, 1527184)\n",
      "(1590163200, 195.25, 195.31, 194.2, 194.35, 12577, 0, 993852)\n",
      "(1590393600, 195.1, 196.34, 195.1, 196.18, 9463, 0, 569442)\n",
      "(1590408000, 196.18, 197., 195.85, 196.76, 12852, 1, 706358)\n",
      "(1590422400, 196.76, 197.55, 196.49, 197.55, 10855, 0, 730728)\n",
      "(1590480000, 198.95, 202.3, 198.52, 201.22, 33318, 0, 2598770)\n",
      "(1590494400, 201.22, 201.48, 199.01, 199.98, 27180, 1, 2054273)\n",
      "(1590508800, 199.96, 200.23, 196.3, 196.86, 27027, 0, 1964835)\n",
      "(1590566400, 196.05, 197.75, 194.71, 196.38, 24049, 0, 1747289)\n",
      "           time    open    high     low   close  tick_volume  spread  \\\n",
      "0    1590134400  194.00  194.35  192.21  193.40        23633       0   \n",
      "1    1590148800  193.40  195.76  193.01  195.21        20720       1   \n",
      "2    1590163200  195.25  195.31  194.20  194.35        12577       0   \n",
      "3    1590393600  195.10  196.34  195.10  196.18         9463       0   \n",
      "4    1590408000  196.18  197.00  195.85  196.76        12852       1   \n",
      "..          ...     ...     ...     ...     ...          ...     ...   \n",
      "744  1614283200  223.12  223.49  221.22  221.70         7745       1   \n",
      "745  1614326400  220.56  221.68  218.27  220.70        23253       0   \n",
      "746  1614340800  220.69  221.22  218.80  219.55        19294       1   \n",
      "747  1614355200  219.55  219.95  217.20  218.43        33278       0   \n",
      "748  1614369600  218.44  218.80  217.50  217.73         7505       1   \n",
      "\n",
      "     real_volume  \n",
      "0        1720589  \n",
      "1        1527184  \n",
      "2         993852  \n",
      "3         569442  \n",
      "4         706358  \n",
      "..           ...  \n",
      "744       401401  \n",
      "745      1393761  \n",
      "746      1251840  \n",
      "747      3365091  \n",
      "748       345574  \n",
      "\n",
      "[749 rows x 8 columns]\n"
     ]
    },
    {
     "data": {
      "text/plain": "[<matplotlib.lines.Line2D at 0x2b1b9b64608>]"
     },
     "execution_count": 45,
     "metadata": {},
     "output_type": "execute_result"
    },
    {
     "data": {
      "text/plain": "<Figure size 432x288 with 1 Axes>",
      "image/png": "[encoded data removed]"
     },
     "metadata": {
      "needs_background": "light"
     },
     "output_type": "display_data"
    }
   ],
   "source": [
    "import pytz\n",
    "# попробуем включить показ символа EURJPY в MarketWatch\n",
    "selected=mt5.symbol_select(\"GAZP\",True)\n",
    "if not selected:\n",
    "    print(\"Failed to select GAZP\")\n",
    "\n",
    "# установим таймзону в UTC\n",
    "timezone = pytz.timezone(\"Etc/UTC\")\n",
    "utc_from = datetime(2021, 3, 1, tzinfo=timezone)\n",
    "\n",
    "gazp_rates = mt5.copy_rates_from(\"GAZP\", mt5.TIMEFRAME_H4, utc_from, 1000)\n",
    "for val in gazp_rates[:10]: print(val)\n",
    "#PLOT\n",
    "# создадим из полученных данных DataFrame\n",
    "rate_frame = pd.DataFrame(gazp_rates)\n",
    "print(rate_frame)\n",
    "# сделаем отрисовку тиков на графике\n",
    "plt.plot(rate_frame['time'], rate_frame['high'], 'r-', label='high')\n",
    "plt.plot(rate_frame['time'], rate_frame['low'], 'b-', label='low')\n",
    "\n"
   ],
   "metadata": {
    "collapsed": false,
    "pycharm": {
     "name": "#%%\n"
    }
   }
  },
  {
   "cell_type": "code",
   "execution_count": 47,
   "outputs": [
    {
     "ename": "ValueError",
     "evalue": "not enough values to unpack (expected 5, got 4)",
     "output_type": "error",
     "traceback": [
      "\u001B[1;31m---------------------------------------------------------------------------\u001B[0m",
      "\u001B[1;31mValueError\u001B[0m                                Traceback (most recent call last)",
      "\u001B[1;32m<ipython-input-47-cd37d6e8783c>\u001B[0m in \u001B[0;36m<module>\u001B[1;34m\u001B[0m\n\u001B[0;32m     12\u001B[0m \u001B[0max\u001B[0m\u001B[1;33m.\u001B[0m\u001B[0mxaxis\u001B[0m\u001B[1;33m.\u001B[0m\u001B[0mset_major_formatter\u001B[0m\u001B[1;33m(\u001B[0m\u001B[0mweekFormatter\u001B[0m\u001B[1;33m)\u001B[0m\u001B[1;33m\u001B[0m\u001B[1;33m\u001B[0m\u001B[0m\n\u001B[0;32m     13\u001B[0m \u001B[0mPrices\u001B[0m \u001B[1;33m=\u001B[0m \u001B[0mrate_frame\u001B[0m\u001B[1;33m[\u001B[0m\u001B[1;33m[\u001B[0m\u001B[1;34m'time'\u001B[0m\u001B[1;33m,\u001B[0m \u001B[1;34m'open'\u001B[0m\u001B[1;33m,\u001B[0m \u001B[1;34m'close'\u001B[0m\u001B[1;33m,\u001B[0m \u001B[1;34m'high'\u001B[0m\u001B[1;33m,\u001B[0m \u001B[1;34m'low'\u001B[0m\u001B[1;33m]\u001B[0m\u001B[1;33m]\u001B[0m\u001B[1;33m.\u001B[0m\u001B[0mcopy\u001B[0m\u001B[1;33m(\u001B[0m\u001B[1;33m)\u001B[0m\u001B[1;33m\u001B[0m\u001B[1;33m\u001B[0m\u001B[0m\n\u001B[1;32m---> 14\u001B[1;33m \u001B[0mcandlestick_ohlc\u001B[0m\u001B[1;33m(\u001B[0m\u001B[0max\u001B[0m\u001B[1;33m,\u001B[0m \u001B[0mPrices\u001B[0m\u001B[1;33m,\u001B[0m \u001B[0mwidth\u001B[0m\u001B[1;33m=\u001B[0m\u001B[1;36m0.6\u001B[0m\u001B[1;33m)\u001B[0m\u001B[1;33m\u001B[0m\u001B[1;33m\u001B[0m\u001B[0m\n\u001B[0m",
      "\u001B[1;32m~\\PycharmProjects\\Pandas_Reader_Sample\\venv\\lib\\site-packages\\mpl_finance.py\u001B[0m in \u001B[0;36mcandlestick_ohlc\u001B[1;34m(ax, quotes, width, colorup, colordown, alpha)\u001B[0m\n\u001B[0;32m    249\u001B[0m     return _candlestick(ax, quotes, width=width, colorup=colorup,\n\u001B[0;32m    250\u001B[0m                         \u001B[0mcolordown\u001B[0m\u001B[1;33m=\u001B[0m\u001B[0mcolordown\u001B[0m\u001B[1;33m,\u001B[0m\u001B[1;33m\u001B[0m\u001B[1;33m\u001B[0m\u001B[0m\n\u001B[1;32m--> 251\u001B[1;33m                         alpha=alpha, ochl=False)\n\u001B[0m\u001B[0;32m    252\u001B[0m \u001B[1;33m\u001B[0m\u001B[0m\n\u001B[0;32m    253\u001B[0m \u001B[1;33m\u001B[0m\u001B[0m\n",
      "\u001B[1;32m~\\PycharmProjects\\Pandas_Reader_Sample\\venv\\lib\\site-packages\\mpl_finance.py\u001B[0m in \u001B[0;36m_candlestick\u001B[1;34m(ax, quotes, width, colorup, colordown, alpha, ochl)\u001B[0m\n\u001B[0;32m    296\u001B[0m             \u001B[0mt\u001B[0m\u001B[1;33m,\u001B[0m \u001B[0mopen\u001B[0m\u001B[1;33m,\u001B[0m \u001B[0mclose\u001B[0m\u001B[1;33m,\u001B[0m \u001B[0mhigh\u001B[0m\u001B[1;33m,\u001B[0m \u001B[0mlow\u001B[0m \u001B[1;33m=\u001B[0m \u001B[0mq\u001B[0m\u001B[1;33m[\u001B[0m\u001B[1;33m:\u001B[0m\u001B[1;36m5\u001B[0m\u001B[1;33m]\u001B[0m\u001B[1;33m\u001B[0m\u001B[1;33m\u001B[0m\u001B[0m\n\u001B[0;32m    297\u001B[0m         \u001B[1;32melse\u001B[0m\u001B[1;33m:\u001B[0m\u001B[1;33m\u001B[0m\u001B[1;33m\u001B[0m\u001B[0m\n\u001B[1;32m--> 298\u001B[1;33m             \u001B[0mt\u001B[0m\u001B[1;33m,\u001B[0m \u001B[0mopen\u001B[0m\u001B[1;33m,\u001B[0m \u001B[0mhigh\u001B[0m\u001B[1;33m,\u001B[0m \u001B[0mlow\u001B[0m\u001B[1;33m,\u001B[0m \u001B[0mclose\u001B[0m \u001B[1;33m=\u001B[0m \u001B[0mq\u001B[0m\u001B[1;33m[\u001B[0m\u001B[1;33m:\u001B[0m\u001B[1;36m5\u001B[0m\u001B[1;33m]\u001B[0m\u001B[1;33m\u001B[0m\u001B[1;33m\u001B[0m\u001B[0m\n\u001B[0m\u001B[0;32m    299\u001B[0m \u001B[1;33m\u001B[0m\u001B[0m\n\u001B[0;32m    300\u001B[0m         \u001B[1;32mif\u001B[0m \u001B[0mclose\u001B[0m \u001B[1;33m>=\u001B[0m \u001B[0mopen\u001B[0m\u001B[1;33m:\u001B[0m\u001B[1;33m\u001B[0m\u001B[1;33m\u001B[0m\u001B[0m\n",
      "\u001B[1;31mValueError\u001B[0m: not enough values to unpack (expected 5, got 4)"
     ]
    },
    {
     "data": {
      "text/plain": "<Figure size 432x288 with 1 Axes>",
      "image/png": "[encoded data removed]"
     },
     "metadata": {
      "needs_background": "light"
     },
     "output_type": "display_data"
    }
   ],
   "source": [
    "from mpl_finance import candlestick_ohlc\n",
    "from matplotlib.dates import  DateFormatter, WeekdayLocator, HourLocator, DayLocator\n",
    "\n",
    "alldays    = DayLocator()              # minor ticks on the days\n",
    "weekFormatter = DateFormatter('%b %d')  # e.g., Jan 12\n",
    "dayFormatter = DateFormatter('%d')      # e.g., 12\n",
    "\n",
    "fig, ax = plt.subplots()\n",
    "fig.subplots_adjust(bottom=0.2)\n",
    "\n",
    "ax.xaxis.set_minor_locator(alldays)\n",
    "ax.xaxis.set_major_formatter(weekFormatter)\n",
    "Prices = rate_frame[['time', 'open', 'close', 'high', 'low']].copy()\n",
    "candlestick_ohlc(ax, Prices, width=0.6)"
   ],
   "metadata": {
    "collapsed": false,
    "pycharm": {
     "name": "#%%\n"
    }
   }
  }
 ],
 "metadata": {
  "kernelspec": {
   "name": "pycharm-18c535e6",
   "language": "python",
   "display_name": "PyCharm (Pandas_Reader_Sample)"
  },
  "language_info": {
   "codemirror_mode": {
    "name": "ipython",
    "version": 2
   },
   "file_extension": ".py",
   "mimetype": "text/x-python",
   "name": "python",
   "nbconvert_exporter": "python",
   "pygments_lexer": "ipython2",
   "version": "2.7.6"
  }
 },
 "nbformat": 4,
 "nbformat_minor": 0
}